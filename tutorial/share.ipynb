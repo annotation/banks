{
 "cells": [
  {
   "cell_type": "markdown",
   "metadata": {},
   "source": [
    "<img align=\"right\" src=\"images/tf-small.png\" width=\"128\"/>\n",
    "<img align=\"right\" src=\"images/phblogo.png\" width=\"128\"/>\n",
    "<img align=\"right\" src=\"images/dans.png\"/>\n",
    "\n",
    "---\n",
    "Start with [convert](https://nbviewer.jupyter.org/github/annotation/banks/blob/master/programs/convert.ipynb)\n",
    "\n",
    "---"
   ]
  },
  {
   "cell_type": "markdown",
   "metadata": {},
   "source": [
    "# Share the Banks example corpus"
   ]
  },
  {
   "cell_type": "code",
   "execution_count": 1,
   "metadata": {},
   "outputs": [
    {
     "name": "stdout",
     "output_type": "stream",
     "text": [
      "True\n",
      "Create release data for annotation/banks/tf\n",
      "Found 2 versions\n",
      "zip files end up in /Users/dirk/Downloads/annotation-release/banks\n",
      "zipping annotation/banks           0.1 with  10 features ==> tf-0.1.zip\n",
      "zipping annotation/banks           0.2 with  10 features ==> tf-0.2.zip\n"
     ]
    }
   ],
   "source": [
    "%%sh\n",
    "\n",
    "text-fabric-zip annotation/banks/tf"
   ]
  },
  {
   "cell_type": "markdown",
   "metadata": {},
   "source": [
    "# Share the similarity feature as a module\n",
    "\n",
    "We do not attach the similarity data to a release, since we intend to update this data quite a few times\n",
    "after tweaking the parameters of the algorithm by which we create it.\n",
    "\n",
    "That means that users will get this data from the latest commit.\n",
    "\n",
    "So we make sure that the similarity data is committed and pushed to GitHub."
   ]
  },
  {
   "cell_type": "markdown",
   "metadata": {},
   "source": [
    "---\n",
    "All chapters:\n",
    "\n",
    "* [use](use.ipynb)\n",
    "* *share*\n",
    "* [app](app.ipynb)\n",
    "* [repo](repo.ipynb)\n",
    "* [compose](compose.ipynb)\n",
    "\n",
    "---"
   ]
  }
 ],
 "metadata": {
  "kernelspec": {
   "display_name": "Python 3",
   "language": "python",
   "name": "python3"
  },
  "language_info": {
   "codemirror_mode": {
    "name": "ipython",
    "version": 3
   },
   "file_extension": ".py",
   "mimetype": "text/x-python",
   "name": "python",
   "nbconvert_exporter": "python",
   "pygments_lexer": "ipython3",
   "version": "3.7.7"
  }
 },
 "nbformat": 4,
 "nbformat_minor": 4
}
